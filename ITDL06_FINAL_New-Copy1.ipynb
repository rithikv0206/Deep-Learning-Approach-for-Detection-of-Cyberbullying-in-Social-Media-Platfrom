{
 "cells": [
  {
   "cell_type": "code",
   "execution_count": 1,
   "metadata": {
    "colab": {
     "base_uri": "https://localhost:8080/"
    },
    "id": "3_X4qC9YnKtt",
    "outputId": "70e1dc03-6369-4ce8-fdcd-bc87d03b57d8"
   },
   "outputs": [
    {
     "name": "stderr",
     "output_type": "stream",
     "text": [
      "[nltk_data] Downloading package punkt to\n",
      "[nltk_data]     C:\\Users\\SRAVAN\\AppData\\Roaming\\nltk_data...\n",
      "[nltk_data]   Package punkt is already up-to-date!\n",
      "[nltk_data] Downloading package stopwords to\n",
      "[nltk_data]     C:\\Users\\SRAVAN\\AppData\\Roaming\\nltk_data...\n",
      "[nltk_data]   Package stopwords is already up-to-date!\n",
      "[nltk_data] Downloading package wordnet to\n",
      "[nltk_data]     C:\\Users\\SRAVAN\\AppData\\Roaming\\nltk_data...\n",
      "[nltk_data]   Package wordnet is already up-to-date!\n"
     ]
    },
    {
     "data": {
      "text/plain": [
       "True"
      ]
     },
     "execution_count": 1,
     "metadata": {},
     "output_type": "execute_result"
    }
   ],
   "source": [
    "import pandas as pd\n",
    "import numpy as np\n",
    "import os\n",
    "import re\n",
    "import nltk\n",
    "import pickle\n",
    "#from imblearn.over_sampling import SMOTE\n",
    "from nltk.corpus import stopwords\n",
    "from sklearn.preprocessing import LabelEncoder\n",
    "import seaborn as sns\n",
    "from nltk.stem.snowball import SnowballStemmer\n",
    "from nltk.corpus import stopwords, words\n",
    "from sklearn.model_selection import train_test_split\n",
    "from nltk.stem.wordnet import WordNetLemmatizer\n",
    "from nltk.tokenize import word_tokenize\n",
    "from sklearn.metrics import confusion_matrix,accuracy_score\n",
    "from sklearn.model_selection import train_test_split\n",
    "from sklearn.ensemble import RandomForestClassifier\n",
    "from sklearn.svm import SVC\n",
    "from sklearn.feature_extraction.text import CountVectorizer, TfidfTransformer,TfidfVectorizer\n",
    "nltk.download('punkt')\n",
    "nltk.download('stopwords')\n",
    "nltk.download('wordnet')"
   ]
  },
  {
   "cell_type": "code",
   "execution_count": 2,
   "metadata": {
    "colab": {
     "base_uri": "https://localhost:8080/",
     "height": 366
    },
    "id": "dM9J5iksnlO1",
    "outputId": "59e681f4-4527-4c07-870e-9b08162ac161"
   },
   "outputs": [
    {
     "name": "stderr",
     "output_type": "stream",
     "text": [
      "C:\\Users\\SRAVAN\\anaconda3\\lib\\site-packages\\IPython\\core\\interactiveshell.py:3444: FutureWarning: The error_bad_lines argument has been deprecated and will be removed in a future version.\n",
      "\n",
      "\n",
      "  exec(code_obj, self.user_global_ns, self.user_ns)\n"
     ]
    },
    {
     "data": {
      "text/html": [
       "<div>\n",
       "<style scoped>\n",
       "    .dataframe tbody tr th:only-of-type {\n",
       "        vertical-align: middle;\n",
       "    }\n",
       "\n",
       "    .dataframe tbody tr th {\n",
       "        vertical-align: top;\n",
       "    }\n",
       "\n",
       "    .dataframe thead th {\n",
       "        text-align: right;\n",
       "    }\n",
       "</style>\n",
       "<table border=\"1\" class=\"dataframe\">\n",
       "  <thead>\n",
       "    <tr style=\"text-align: right;\">\n",
       "      <th></th>\n",
       "      <th>userid</th>\n",
       "      <th>post</th>\n",
       "      <th>ques</th>\n",
       "      <th>ans</th>\n",
       "      <th>asker</th>\n",
       "      <th>ans1</th>\n",
       "      <th>severity1</th>\n",
       "      <th>bully1</th>\n",
       "      <th>ans2</th>\n",
       "      <th>severity2</th>\n",
       "      <th>bully2</th>\n",
       "      <th>ans3</th>\n",
       "      <th>severity3</th>\n",
       "      <th>bully3</th>\n",
       "    </tr>\n",
       "  </thead>\n",
       "  <tbody>\n",
       "    <tr>\n",
       "      <th>0</th>\n",
       "      <td>aguitarplayer94</td>\n",
       "      <td>Q: what&amp;#039;s your favorite song? :D&lt;br&gt;A: I ...</td>\n",
       "      <td>what&amp;#039;s your favorite song? :D&lt;br&gt;</td>\n",
       "      <td>I like too many songs to have a favorite</td>\n",
       "      <td>None</td>\n",
       "      <td>No</td>\n",
       "      <td>0</td>\n",
       "      <td>NaN</td>\n",
       "      <td>No</td>\n",
       "      <td>0</td>\n",
       "      <td>NaN</td>\n",
       "      <td>No</td>\n",
       "      <td>0</td>\n",
       "      <td>NaN</td>\n",
       "    </tr>\n",
       "    <tr>\n",
       "      <th>1</th>\n",
       "      <td>aprilpooh15</td>\n",
       "      <td>Q: &lt;3&lt;br&gt;A: &lt;/3 ? haha jk! &lt;33</td>\n",
       "      <td>&lt;3</td>\n",
       "      <td>&lt;/3 ? haha jk! &lt;33</td>\n",
       "      <td>None</td>\n",
       "      <td>No</td>\n",
       "      <td>0</td>\n",
       "      <td>NaN</td>\n",
       "      <td>No</td>\n",
       "      <td>0</td>\n",
       "      <td>NaN</td>\n",
       "      <td>No</td>\n",
       "      <td>0</td>\n",
       "      <td>NaN</td>\n",
       "    </tr>\n",
       "    <tr>\n",
       "      <th>2</th>\n",
       "      <td>aprilpooh15</td>\n",
       "      <td>Q: &amp;quot;hey angel  you duh sexy&amp;quot;&lt;br&gt;A: R...</td>\n",
       "      <td>&amp;quot;hey angel  you duh sexy&amp;quot;</td>\n",
       "      <td>Really?!?! Thanks?! haha</td>\n",
       "      <td>None</td>\n",
       "      <td>No</td>\n",
       "      <td>0</td>\n",
       "      <td>NaN</td>\n",
       "      <td>No</td>\n",
       "      <td>0</td>\n",
       "      <td>NaN</td>\n",
       "      <td>No</td>\n",
       "      <td>0</td>\n",
       "      <td>NaN</td>\n",
       "    </tr>\n",
       "    <tr>\n",
       "      <th>3</th>\n",
       "      <td>aprilpooh15</td>\n",
       "      <td>Q: (:&lt;br&gt;A: ;(</td>\n",
       "      <td>(:</td>\n",
       "      <td>;(</td>\n",
       "      <td>None</td>\n",
       "      <td>No</td>\n",
       "      <td>0</td>\n",
       "      <td>NaN</td>\n",
       "      <td>No</td>\n",
       "      <td>0</td>\n",
       "      <td>NaN</td>\n",
       "      <td>No</td>\n",
       "      <td>0</td>\n",
       "      <td>NaN</td>\n",
       "    </tr>\n",
       "    <tr>\n",
       "      <th>4</th>\n",
       "      <td>aprilpooh15</td>\n",
       "      <td>Q: ******************MEOWWW*******************...</td>\n",
       "      <td>******************MEOWWW*************************</td>\n",
       "      <td>*RAWR*?</td>\n",
       "      <td>None</td>\n",
       "      <td>No</td>\n",
       "      <td>0</td>\n",
       "      <td>NaN</td>\n",
       "      <td>No</td>\n",
       "      <td>0</td>\n",
       "      <td>NaN</td>\n",
       "      <td>No</td>\n",
       "      <td>0</td>\n",
       "      <td>NaN</td>\n",
       "    </tr>\n",
       "  </tbody>\n",
       "</table>\n",
       "</div>"
      ],
      "text/plain": [
       "            userid                                               post  \\\n",
       "0  aguitarplayer94  Q: what&#039;s your favorite song? :D<br>A: I ...   \n",
       "1      aprilpooh15                     Q: <3<br>A: </3 ? haha jk! <33   \n",
       "2      aprilpooh15  Q: &quot;hey angel  you duh sexy&quot;<br>A: R...   \n",
       "3      aprilpooh15                                     Q: (:<br>A: ;(   \n",
       "4      aprilpooh15  Q: ******************MEOWWW*******************...   \n",
       "\n",
       "                                                ques  \\\n",
       "0             what&#039;s your favorite song? :D<br>   \n",
       "1                                                 <3   \n",
       "2                &quot;hey angel  you duh sexy&quot;   \n",
       "3                                                 (:   \n",
       "4  ******************MEOWWW*************************   \n",
       "\n",
       "                                         ans asker ans1 severity1 bully1 ans2  \\\n",
       "0   I like too many songs to have a favorite  None   No         0    NaN   No   \n",
       "1                         </3 ? haha jk! <33  None   No         0    NaN   No   \n",
       "2                   Really?!?! Thanks?! haha  None   No         0    NaN   No   \n",
       "3                                         ;(  None   No         0    NaN   No   \n",
       "4                                    *RAWR*?  None   No         0    NaN   No   \n",
       "\n",
       "  severity2 bully2 ans3 severity3 bully3  \n",
       "0         0    NaN   No         0    NaN  \n",
       "1         0    NaN   No         0    NaN  \n",
       "2         0    NaN   No         0    NaN  \n",
       "3         0    NaN   No         0    NaN  \n",
       "4         0    NaN   No         0    NaN  "
      ]
     },
     "execution_count": 2,
     "metadata": {},
     "output_type": "execute_result"
    }
   ],
   "source": [
    "data=pd.read_csv(r'C:\\Users\\SRAVAN\\Desktop\\FINAL CODE\\formspring_data.csv',error_bad_lines=False,sep='\\t')\n",
    "data.head()"
   ]
  },
  {
   "cell_type": "code",
   "execution_count": 3,
   "metadata": {
    "colab": {
     "base_uri": "https://localhost:8080/"
    },
    "id": "8Heit9RxpCvS",
    "outputId": "87c115a6-2182-4b10-b4f6-0dd284a2354d"
   },
   "outputs": [
    {
     "data": {
      "text/plain": [
       "(12773, 14)"
      ]
     },
     "execution_count": 3,
     "metadata": {},
     "output_type": "execute_result"
    }
   ],
   "source": [
    "data.shape"
   ]
  },
  {
   "cell_type": "code",
   "execution_count": 4,
   "metadata": {
    "colab": {
     "base_uri": "https://localhost:8080/"
    },
    "id": "e3YzD7I2pHo7",
    "outputId": "c8197ffc-3486-493c-f3c8-82726c38e78d"
   },
   "outputs": [
    {
     "data": {
      "text/plain": [
       "(12731, 14)"
      ]
     },
     "execution_count": 4,
     "metadata": {},
     "output_type": "execute_result"
    }
   ],
   "source": [
    "df=data[data.ans1.notna()]\n",
    "df.shape"
   ]
  },
  {
   "cell_type": "code",
   "execution_count": 5,
   "metadata": {
    "colab": {
     "base_uri": "https://localhost:8080/",
     "height": 383
    },
    "id": "82Ksc-a6pop_",
    "outputId": "bd4e54fd-8062-4db3-96bd-417cadc3c304"
   },
   "outputs": [
    {
     "name": "stdout",
     "output_type": "stream",
     "text": [
      "(11089, 14)\n"
     ]
    },
    {
     "data": {
      "text/html": [
       "<div>\n",
       "<style scoped>\n",
       "    .dataframe tbody tr th:only-of-type {\n",
       "        vertical-align: middle;\n",
       "    }\n",
       "\n",
       "    .dataframe tbody tr th {\n",
       "        vertical-align: top;\n",
       "    }\n",
       "\n",
       "    .dataframe thead th {\n",
       "        text-align: right;\n",
       "    }\n",
       "</style>\n",
       "<table border=\"1\" class=\"dataframe\">\n",
       "  <thead>\n",
       "    <tr style=\"text-align: right;\">\n",
       "      <th></th>\n",
       "      <th>userid</th>\n",
       "      <th>post</th>\n",
       "      <th>ques</th>\n",
       "      <th>ans</th>\n",
       "      <th>asker</th>\n",
       "      <th>ans1</th>\n",
       "      <th>severity1</th>\n",
       "      <th>bully1</th>\n",
       "      <th>ans2</th>\n",
       "      <th>severity2</th>\n",
       "      <th>bully2</th>\n",
       "      <th>ans3</th>\n",
       "      <th>severity3</th>\n",
       "      <th>bully3</th>\n",
       "    </tr>\n",
       "  </thead>\n",
       "  <tbody>\n",
       "    <tr>\n",
       "      <th>0</th>\n",
       "      <td>aguitarplayer94</td>\n",
       "      <td>Q: what&amp;#039;s your favorite song? :D&lt;br&gt;A: I ...</td>\n",
       "      <td>what&amp;#039;s your favorite song? :D&lt;br&gt;</td>\n",
       "      <td>I like too many songs to have a favorite</td>\n",
       "      <td>None</td>\n",
       "      <td>No</td>\n",
       "      <td>0</td>\n",
       "      <td>NaN</td>\n",
       "      <td>No</td>\n",
       "      <td>0</td>\n",
       "      <td>NaN</td>\n",
       "      <td>No</td>\n",
       "      <td>0</td>\n",
       "      <td>NaN</td>\n",
       "    </tr>\n",
       "    <tr>\n",
       "      <th>1</th>\n",
       "      <td>aprilpooh15</td>\n",
       "      <td>Q: &lt;3&lt;br&gt;A: &lt;/3 ? haha jk! &lt;33</td>\n",
       "      <td>&lt;3</td>\n",
       "      <td>&lt;/3 ? haha jk! &lt;33</td>\n",
       "      <td>None</td>\n",
       "      <td>No</td>\n",
       "      <td>0</td>\n",
       "      <td>NaN</td>\n",
       "      <td>No</td>\n",
       "      <td>0</td>\n",
       "      <td>NaN</td>\n",
       "      <td>No</td>\n",
       "      <td>0</td>\n",
       "      <td>NaN</td>\n",
       "    </tr>\n",
       "    <tr>\n",
       "      <th>2</th>\n",
       "      <td>aprilpooh15</td>\n",
       "      <td>Q: &amp;quot;hey angel  you duh sexy&amp;quot;&lt;br&gt;A: R...</td>\n",
       "      <td>&amp;quot;hey angel  you duh sexy&amp;quot;</td>\n",
       "      <td>Really?!?! Thanks?! haha</td>\n",
       "      <td>None</td>\n",
       "      <td>No</td>\n",
       "      <td>0</td>\n",
       "      <td>NaN</td>\n",
       "      <td>No</td>\n",
       "      <td>0</td>\n",
       "      <td>NaN</td>\n",
       "      <td>No</td>\n",
       "      <td>0</td>\n",
       "      <td>NaN</td>\n",
       "    </tr>\n",
       "    <tr>\n",
       "      <th>3</th>\n",
       "      <td>aprilpooh15</td>\n",
       "      <td>Q: (:&lt;br&gt;A: ;(</td>\n",
       "      <td>(:</td>\n",
       "      <td>;(</td>\n",
       "      <td>None</td>\n",
       "      <td>No</td>\n",
       "      <td>0</td>\n",
       "      <td>NaN</td>\n",
       "      <td>No</td>\n",
       "      <td>0</td>\n",
       "      <td>NaN</td>\n",
       "      <td>No</td>\n",
       "      <td>0</td>\n",
       "      <td>NaN</td>\n",
       "    </tr>\n",
       "    <tr>\n",
       "      <th>4</th>\n",
       "      <td>aprilpooh15</td>\n",
       "      <td>Q: ******************MEOWWW*******************...</td>\n",
       "      <td>******************MEOWWW*************************</td>\n",
       "      <td>*RAWR*?</td>\n",
       "      <td>None</td>\n",
       "      <td>No</td>\n",
       "      <td>0</td>\n",
       "      <td>NaN</td>\n",
       "      <td>No</td>\n",
       "      <td>0</td>\n",
       "      <td>NaN</td>\n",
       "      <td>No</td>\n",
       "      <td>0</td>\n",
       "      <td>NaN</td>\n",
       "    </tr>\n",
       "  </tbody>\n",
       "</table>\n",
       "</div>"
      ],
      "text/plain": [
       "            userid                                               post  \\\n",
       "0  aguitarplayer94  Q: what&#039;s your favorite song? :D<br>A: I ...   \n",
       "1      aprilpooh15                     Q: <3<br>A: </3 ? haha jk! <33   \n",
       "2      aprilpooh15  Q: &quot;hey angel  you duh sexy&quot;<br>A: R...   \n",
       "3      aprilpooh15                                     Q: (:<br>A: ;(   \n",
       "4      aprilpooh15  Q: ******************MEOWWW*******************...   \n",
       "\n",
       "                                                ques  \\\n",
       "0             what&#039;s your favorite song? :D<br>   \n",
       "1                                                 <3   \n",
       "2                &quot;hey angel  you duh sexy&quot;   \n",
       "3                                                 (:   \n",
       "4  ******************MEOWWW*************************   \n",
       "\n",
       "                                         ans asker ans1 severity1 bully1 ans2  \\\n",
       "0   I like too many songs to have a favorite  None   No         0    NaN   No   \n",
       "1                         </3 ? haha jk! <33  None   No         0    NaN   No   \n",
       "2                   Really?!?! Thanks?! haha  None   No         0    NaN   No   \n",
       "3                                         ;(  None   No         0    NaN   No   \n",
       "4                                    *RAWR*?  None   No         0    NaN   No   \n",
       "\n",
       "  severity2 bully2 ans3 severity3 bully3  \n",
       "0         0    NaN   No         0    NaN  \n",
       "1         0    NaN   No         0    NaN  \n",
       "2         0    NaN   No         0    NaN  \n",
       "3         0    NaN   No         0    NaN  \n",
       "4         0    NaN   No         0    NaN  "
      ]
     },
     "execution_count": 5,
     "metadata": {},
     "output_type": "execute_result"
    }
   ],
   "source": [
    "df1=df[(df.ans1==df.ans2)& (df.ans2 == df.ans3) & (df.ans1 == df.ans3)].reset_index(drop=True)\n",
    "print(df1.shape)\n",
    "df1.head()"
   ]
  },
  {
   "cell_type": "code",
   "execution_count": null,
   "metadata": {},
   "outputs": [],
   "source": []
  },
  {
   "cell_type": "code",
   "execution_count": 6,
   "metadata": {
    "colab": {
     "base_uri": "https://localhost:8080/",
     "height": 363
    },
    "id": "qDZd_2AVp_if",
    "outputId": "cac27f37-2fa4-4874-d78a-eabe7d74cc9d"
   },
   "outputs": [
    {
     "data": {
      "text/html": [
       "<div>\n",
       "<style scoped>\n",
       "    .dataframe tbody tr th:only-of-type {\n",
       "        vertical-align: middle;\n",
       "    }\n",
       "\n",
       "    .dataframe tbody tr th {\n",
       "        vertical-align: top;\n",
       "    }\n",
       "\n",
       "    .dataframe thead th {\n",
       "        text-align: right;\n",
       "    }\n",
       "</style>\n",
       "<table border=\"1\" class=\"dataframe\">\n",
       "  <thead>\n",
       "    <tr style=\"text-align: right;\">\n",
       "      <th></th>\n",
       "      <th>userid</th>\n",
       "      <th>post</th>\n",
       "      <th>ques</th>\n",
       "      <th>ans</th>\n",
       "      <th>asker</th>\n",
       "      <th>ans1</th>\n",
       "      <th>severity1</th>\n",
       "      <th>bully1</th>\n",
       "      <th>ans2</th>\n",
       "      <th>severity2</th>\n",
       "      <th>bully2</th>\n",
       "      <th>ans3</th>\n",
       "      <th>severity3</th>\n",
       "      <th>bully3</th>\n",
       "    </tr>\n",
       "  </thead>\n",
       "  <tbody>\n",
       "    <tr>\n",
       "      <th>0</th>\n",
       "      <td>aguitarplayer94</td>\n",
       "      <td>Q: what&amp;#039;s your favorite song? :D&lt;br&gt;A: I ...</td>\n",
       "      <td>what039s your favorite song Dbr</td>\n",
       "      <td>I like too many songs to have a favorite</td>\n",
       "      <td>None</td>\n",
       "      <td>No</td>\n",
       "      <td>0</td>\n",
       "      <td>NaN</td>\n",
       "      <td>No</td>\n",
       "      <td>0</td>\n",
       "      <td>NaN</td>\n",
       "      <td>No</td>\n",
       "      <td>0</td>\n",
       "      <td>NaN</td>\n",
       "    </tr>\n",
       "    <tr>\n",
       "      <th>1</th>\n",
       "      <td>aprilpooh15</td>\n",
       "      <td>Q: &lt;3&lt;br&gt;A: &lt;/3 ? haha jk! &lt;33</td>\n",
       "      <td>3</td>\n",
       "      <td>&lt;/3 ? haha jk! &lt;33</td>\n",
       "      <td>None</td>\n",
       "      <td>No</td>\n",
       "      <td>0</td>\n",
       "      <td>NaN</td>\n",
       "      <td>No</td>\n",
       "      <td>0</td>\n",
       "      <td>NaN</td>\n",
       "      <td>No</td>\n",
       "      <td>0</td>\n",
       "      <td>NaN</td>\n",
       "    </tr>\n",
       "    <tr>\n",
       "      <th>2</th>\n",
       "      <td>aprilpooh15</td>\n",
       "      <td>Q: &amp;quot;hey angel  you duh sexy&amp;quot;&lt;br&gt;A: R...</td>\n",
       "      <td>quothey angel  you duh sexyquot</td>\n",
       "      <td>Really?!?! Thanks?! haha</td>\n",
       "      <td>None</td>\n",
       "      <td>No</td>\n",
       "      <td>0</td>\n",
       "      <td>NaN</td>\n",
       "      <td>No</td>\n",
       "      <td>0</td>\n",
       "      <td>NaN</td>\n",
       "      <td>No</td>\n",
       "      <td>0</td>\n",
       "      <td>NaN</td>\n",
       "    </tr>\n",
       "    <tr>\n",
       "      <th>3</th>\n",
       "      <td>aprilpooh15</td>\n",
       "      <td>Q: (:&lt;br&gt;A: ;(</td>\n",
       "      <td></td>\n",
       "      <td>;(</td>\n",
       "      <td>None</td>\n",
       "      <td>No</td>\n",
       "      <td>0</td>\n",
       "      <td>NaN</td>\n",
       "      <td>No</td>\n",
       "      <td>0</td>\n",
       "      <td>NaN</td>\n",
       "      <td>No</td>\n",
       "      <td>0</td>\n",
       "      <td>NaN</td>\n",
       "    </tr>\n",
       "    <tr>\n",
       "      <th>4</th>\n",
       "      <td>aprilpooh15</td>\n",
       "      <td>Q: ******************MEOWWW*******************...</td>\n",
       "      <td>MEOWWW</td>\n",
       "      <td>*RAWR*?</td>\n",
       "      <td>None</td>\n",
       "      <td>No</td>\n",
       "      <td>0</td>\n",
       "      <td>NaN</td>\n",
       "      <td>No</td>\n",
       "      <td>0</td>\n",
       "      <td>NaN</td>\n",
       "      <td>No</td>\n",
       "      <td>0</td>\n",
       "      <td>NaN</td>\n",
       "    </tr>\n",
       "  </tbody>\n",
       "</table>\n",
       "</div>"
      ],
      "text/plain": [
       "            userid                                               post  \\\n",
       "0  aguitarplayer94  Q: what&#039;s your favorite song? :D<br>A: I ...   \n",
       "1      aprilpooh15                     Q: <3<br>A: </3 ? haha jk! <33   \n",
       "2      aprilpooh15  Q: &quot;hey angel  you duh sexy&quot;<br>A: R...   \n",
       "3      aprilpooh15                                     Q: (:<br>A: ;(   \n",
       "4      aprilpooh15  Q: ******************MEOWWW*******************...   \n",
       "\n",
       "                              ques                                        ans  \\\n",
       "0  what039s your favorite song Dbr   I like too many songs to have a favorite   \n",
       "1                                3                         </3 ? haha jk! <33   \n",
       "2  quothey angel  you duh sexyquot                   Really?!?! Thanks?! haha   \n",
       "3                                                                          ;(   \n",
       "4                           MEOWWW                                    *RAWR*?   \n",
       "\n",
       "  asker ans1 severity1 bully1 ans2 severity2 bully2 ans3 severity3 bully3  \n",
       "0  None   No         0    NaN   No         0    NaN   No         0    NaN  \n",
       "1  None   No         0    NaN   No         0    NaN   No         0    NaN  \n",
       "2  None   No         0    NaN   No         0    NaN   No         0    NaN  \n",
       "3  None   No         0    NaN   No         0    NaN   No         0    NaN  \n",
       "4  None   No         0    NaN   No         0    NaN   No         0    NaN  "
      ]
     },
     "execution_count": 6,
     "metadata": {},
     "output_type": "execute_result"
    }
   ],
   "source": [
    "df1['ques']=df['ques'].apply(lambda x:re.sub('[^a-zA-Z\\s0-9]','',x) if isinstance(x,str) else ' ')\n",
    "df1.head()"
   ]
  },
  {
   "cell_type": "code",
   "execution_count": 7,
   "metadata": {
    "colab": {
     "base_uri": "https://localhost:8080/",
     "height": 346
    },
    "id": "8vzI3keDtQRi",
    "outputId": "5ef47345-6ae9-4ef5-da34-fb9b88a200cc"
   },
   "outputs": [
    {
     "data": {
      "text/html": [
       "<div>\n",
       "<style scoped>\n",
       "    .dataframe tbody tr th:only-of-type {\n",
       "        vertical-align: middle;\n",
       "    }\n",
       "\n",
       "    .dataframe tbody tr th {\n",
       "        vertical-align: top;\n",
       "    }\n",
       "\n",
       "    .dataframe thead th {\n",
       "        text-align: right;\n",
       "    }\n",
       "</style>\n",
       "<table border=\"1\" class=\"dataframe\">\n",
       "  <thead>\n",
       "    <tr style=\"text-align: right;\">\n",
       "      <th></th>\n",
       "      <th>userid</th>\n",
       "      <th>post</th>\n",
       "      <th>ques</th>\n",
       "      <th>ans</th>\n",
       "      <th>asker</th>\n",
       "      <th>ans1</th>\n",
       "      <th>severity1</th>\n",
       "      <th>bully1</th>\n",
       "      <th>ans2</th>\n",
       "      <th>severity2</th>\n",
       "      <th>bully2</th>\n",
       "      <th>ans3</th>\n",
       "      <th>severity3</th>\n",
       "      <th>bully3</th>\n",
       "    </tr>\n",
       "  </thead>\n",
       "  <tbody>\n",
       "    <tr>\n",
       "      <th>0</th>\n",
       "      <td>aguitarplayer94</td>\n",
       "      <td>Q: what&amp;#039;s your favorite song? :D&lt;br&gt;A: I ...</td>\n",
       "      <td>what039s your favorite song Dbr</td>\n",
       "      <td>I like too many songs to have a favorite</td>\n",
       "      <td>None</td>\n",
       "      <td>No</td>\n",
       "      <td>0</td>\n",
       "      <td>NaN</td>\n",
       "      <td>No</td>\n",
       "      <td>0</td>\n",
       "      <td>NaN</td>\n",
       "      <td>No</td>\n",
       "      <td>0</td>\n",
       "      <td>NaN</td>\n",
       "    </tr>\n",
       "    <tr>\n",
       "      <th>1</th>\n",
       "      <td>aprilpooh15</td>\n",
       "      <td>Q: &lt;3&lt;br&gt;A: &lt;/3 ? haha jk! &lt;33</td>\n",
       "      <td>3</td>\n",
       "      <td>3  haha jk 33</td>\n",
       "      <td>None</td>\n",
       "      <td>No</td>\n",
       "      <td>0</td>\n",
       "      <td>NaN</td>\n",
       "      <td>No</td>\n",
       "      <td>0</td>\n",
       "      <td>NaN</td>\n",
       "      <td>No</td>\n",
       "      <td>0</td>\n",
       "      <td>NaN</td>\n",
       "    </tr>\n",
       "    <tr>\n",
       "      <th>2</th>\n",
       "      <td>aprilpooh15</td>\n",
       "      <td>Q: &amp;quot;hey angel  you duh sexy&amp;quot;&lt;br&gt;A: R...</td>\n",
       "      <td>quothey angel  you duh sexyquot</td>\n",
       "      <td>Really Thanks haha</td>\n",
       "      <td>None</td>\n",
       "      <td>No</td>\n",
       "      <td>0</td>\n",
       "      <td>NaN</td>\n",
       "      <td>No</td>\n",
       "      <td>0</td>\n",
       "      <td>NaN</td>\n",
       "      <td>No</td>\n",
       "      <td>0</td>\n",
       "      <td>NaN</td>\n",
       "    </tr>\n",
       "    <tr>\n",
       "      <th>3</th>\n",
       "      <td>aprilpooh15</td>\n",
       "      <td>Q: (:&lt;br&gt;A: ;(</td>\n",
       "      <td></td>\n",
       "      <td></td>\n",
       "      <td>None</td>\n",
       "      <td>No</td>\n",
       "      <td>0</td>\n",
       "      <td>NaN</td>\n",
       "      <td>No</td>\n",
       "      <td>0</td>\n",
       "      <td>NaN</td>\n",
       "      <td>No</td>\n",
       "      <td>0</td>\n",
       "      <td>NaN</td>\n",
       "    </tr>\n",
       "    <tr>\n",
       "      <th>4</th>\n",
       "      <td>aprilpooh15</td>\n",
       "      <td>Q: ******************MEOWWW*******************...</td>\n",
       "      <td>MEOWWW</td>\n",
       "      <td>RAWR</td>\n",
       "      <td>None</td>\n",
       "      <td>No</td>\n",
       "      <td>0</td>\n",
       "      <td>NaN</td>\n",
       "      <td>No</td>\n",
       "      <td>0</td>\n",
       "      <td>NaN</td>\n",
       "      <td>No</td>\n",
       "      <td>0</td>\n",
       "      <td>NaN</td>\n",
       "    </tr>\n",
       "  </tbody>\n",
       "</table>\n",
       "</div>"
      ],
      "text/plain": [
       "            userid                                               post  \\\n",
       "0  aguitarplayer94  Q: what&#039;s your favorite song? :D<br>A: I ...   \n",
       "1      aprilpooh15                     Q: <3<br>A: </3 ? haha jk! <33   \n",
       "2      aprilpooh15  Q: &quot;hey angel  you duh sexy&quot;<br>A: R...   \n",
       "3      aprilpooh15                                     Q: (:<br>A: ;(   \n",
       "4      aprilpooh15  Q: ******************MEOWWW*******************...   \n",
       "\n",
       "                              ques                                        ans  \\\n",
       "0  what039s your favorite song Dbr   I like too many songs to have a favorite   \n",
       "1                                3                              3  haha jk 33   \n",
       "2  quothey angel  you duh sexyquot                         Really Thanks haha   \n",
       "3                                                                               \n",
       "4                           MEOWWW                                       RAWR   \n",
       "\n",
       "  asker ans1 severity1 bully1 ans2 severity2 bully2 ans3 severity3 bully3  \n",
       "0  None   No         0    NaN   No         0    NaN   No         0    NaN  \n",
       "1  None   No         0    NaN   No         0    NaN   No         0    NaN  \n",
       "2  None   No         0    NaN   No         0    NaN   No         0    NaN  \n",
       "3  None   No         0    NaN   No         0    NaN   No         0    NaN  \n",
       "4  None   No         0    NaN   No         0    NaN   No         0    NaN  "
      ]
     },
     "execution_count": 7,
     "metadata": {},
     "output_type": "execute_result"
    }
   ],
   "source": [
    "df1['ans']=df['ans'].apply(lambda x:re.sub('[^a-zA-Z\\s0-9]','',x) if isinstance(x,str) else ' ')\n",
    "df1.head()"
   ]
  },
  {
   "cell_type": "code",
   "execution_count": 8,
   "metadata": {
    "id": "kf_oBmK4tw-K"
   },
   "outputs": [],
   "source": [
    "stemmmer=SnowballStemmer('english')\n",
    "df1['ques']=df1['ques'].apply(lambda x:' '.join([stemmmer.stem(i) for i in x.split(' ')]) if isinstance(x,str) else x)\n",
    "df1['ans']=df1['ans'].apply(lambda x:' '.join([stemmmer.stem(i) for i in x.split(' ')]) if isinstance(x,str) else x)"
   ]
  },
  {
   "cell_type": "code",
   "execution_count": 9,
   "metadata": {
    "colab": {
     "base_uri": "https://localhost:8080/",
     "height": 346
    },
    "id": "Ao5cJU2KwWvI",
    "outputId": "9f4ccbf1-4237-40c5-9ff4-1fb226952492"
   },
   "outputs": [
    {
     "data": {
      "text/html": [
       "<div>\n",
       "<style scoped>\n",
       "    .dataframe tbody tr th:only-of-type {\n",
       "        vertical-align: middle;\n",
       "    }\n",
       "\n",
       "    .dataframe tbody tr th {\n",
       "        vertical-align: top;\n",
       "    }\n",
       "\n",
       "    .dataframe thead th {\n",
       "        text-align: right;\n",
       "    }\n",
       "</style>\n",
       "<table border=\"1\" class=\"dataframe\">\n",
       "  <thead>\n",
       "    <tr style=\"text-align: right;\">\n",
       "      <th></th>\n",
       "      <th>userid</th>\n",
       "      <th>post</th>\n",
       "      <th>ques</th>\n",
       "      <th>ans</th>\n",
       "      <th>asker</th>\n",
       "      <th>ans1</th>\n",
       "      <th>severity1</th>\n",
       "      <th>bully1</th>\n",
       "      <th>ans2</th>\n",
       "      <th>severity2</th>\n",
       "      <th>bully2</th>\n",
       "      <th>ans3</th>\n",
       "      <th>severity3</th>\n",
       "      <th>bully3</th>\n",
       "    </tr>\n",
       "  </thead>\n",
       "  <tbody>\n",
       "    <tr>\n",
       "      <th>0</th>\n",
       "      <td>aguitarplayer94</td>\n",
       "      <td>Q: what&amp;#039;s your favorite song? :D&lt;br&gt;A: I ...</td>\n",
       "      <td>what039 your favorit song dbr</td>\n",
       "      <td>i like too mani song to have a favorit</td>\n",
       "      <td>None</td>\n",
       "      <td>No</td>\n",
       "      <td>0</td>\n",
       "      <td>NaN</td>\n",
       "      <td>No</td>\n",
       "      <td>0</td>\n",
       "      <td>NaN</td>\n",
       "      <td>No</td>\n",
       "      <td>0</td>\n",
       "      <td>NaN</td>\n",
       "    </tr>\n",
       "    <tr>\n",
       "      <th>1</th>\n",
       "      <td>aprilpooh15</td>\n",
       "      <td>Q: &lt;3&lt;br&gt;A: &lt;/3 ? haha jk! &lt;33</td>\n",
       "      <td>3</td>\n",
       "      <td>3  haha jk 33</td>\n",
       "      <td>None</td>\n",
       "      <td>No</td>\n",
       "      <td>0</td>\n",
       "      <td>NaN</td>\n",
       "      <td>No</td>\n",
       "      <td>0</td>\n",
       "      <td>NaN</td>\n",
       "      <td>No</td>\n",
       "      <td>0</td>\n",
       "      <td>NaN</td>\n",
       "    </tr>\n",
       "    <tr>\n",
       "      <th>2</th>\n",
       "      <td>aprilpooh15</td>\n",
       "      <td>Q: &amp;quot;hey angel  you duh sexy&amp;quot;&lt;br&gt;A: R...</td>\n",
       "      <td>quothey angel  you duh sexyquot</td>\n",
       "      <td>realli thank haha</td>\n",
       "      <td>None</td>\n",
       "      <td>No</td>\n",
       "      <td>0</td>\n",
       "      <td>NaN</td>\n",
       "      <td>No</td>\n",
       "      <td>0</td>\n",
       "      <td>NaN</td>\n",
       "      <td>No</td>\n",
       "      <td>0</td>\n",
       "      <td>NaN</td>\n",
       "    </tr>\n",
       "    <tr>\n",
       "      <th>3</th>\n",
       "      <td>aprilpooh15</td>\n",
       "      <td>Q: (:&lt;br&gt;A: ;(</td>\n",
       "      <td></td>\n",
       "      <td></td>\n",
       "      <td>None</td>\n",
       "      <td>No</td>\n",
       "      <td>0</td>\n",
       "      <td>NaN</td>\n",
       "      <td>No</td>\n",
       "      <td>0</td>\n",
       "      <td>NaN</td>\n",
       "      <td>No</td>\n",
       "      <td>0</td>\n",
       "      <td>NaN</td>\n",
       "    </tr>\n",
       "    <tr>\n",
       "      <th>4</th>\n",
       "      <td>aprilpooh15</td>\n",
       "      <td>Q: ******************MEOWWW*******************...</td>\n",
       "      <td>meowww</td>\n",
       "      <td>rawr</td>\n",
       "      <td>None</td>\n",
       "      <td>No</td>\n",
       "      <td>0</td>\n",
       "      <td>NaN</td>\n",
       "      <td>No</td>\n",
       "      <td>0</td>\n",
       "      <td>NaN</td>\n",
       "      <td>No</td>\n",
       "      <td>0</td>\n",
       "      <td>NaN</td>\n",
       "    </tr>\n",
       "  </tbody>\n",
       "</table>\n",
       "</div>"
      ],
      "text/plain": [
       "            userid                                               post  \\\n",
       "0  aguitarplayer94  Q: what&#039;s your favorite song? :D<br>A: I ...   \n",
       "1      aprilpooh15                     Q: <3<br>A: </3 ? haha jk! <33   \n",
       "2      aprilpooh15  Q: &quot;hey angel  you duh sexy&quot;<br>A: R...   \n",
       "3      aprilpooh15                                     Q: (:<br>A: ;(   \n",
       "4      aprilpooh15  Q: ******************MEOWWW*******************...   \n",
       "\n",
       "                              ques                                      ans  \\\n",
       "0    what039 your favorit song dbr   i like too mani song to have a favorit   \n",
       "1                                3                            3  haha jk 33   \n",
       "2  quothey angel  you duh sexyquot                        realli thank haha   \n",
       "3                                                                             \n",
       "4                           meowww                                     rawr   \n",
       "\n",
       "  asker ans1 severity1 bully1 ans2 severity2 bully2 ans3 severity3 bully3  \n",
       "0  None   No         0    NaN   No         0    NaN   No         0    NaN  \n",
       "1  None   No         0    NaN   No         0    NaN   No         0    NaN  \n",
       "2  None   No         0    NaN   No         0    NaN   No         0    NaN  \n",
       "3  None   No         0    NaN   No         0    NaN   No         0    NaN  \n",
       "4  None   No         0    NaN   No         0    NaN   No         0    NaN  "
      ]
     },
     "execution_count": 9,
     "metadata": {},
     "output_type": "execute_result"
    }
   ],
   "source": [
    "df1.head()"
   ]
  },
  {
   "cell_type": "code",
   "execution_count": 10,
   "metadata": {
    "id": "oORCIjJywdvZ"
   },
   "outputs": [],
   "source": [
    "#stop_words = stopwords.words(\"english\")\n",
    "lemmatizer = WordNetLemmatizer()\n",
    "df1['ques']=df1['ques'].apply(lambda x:' '.join([lemmatizer.lemmatize(i) for i in x.split(' ') ]) if isinstance(x,str) else x)\n",
    "df1['ans']=df1['ans'].apply(lambda x:' '.join([lemmatizer.lemmatize(i) for i in x.split(' ') ]) if isinstance(x,str) else x)"
   ]
  },
  {
   "cell_type": "code",
   "execution_count": 11,
   "metadata": {
    "colab": {
     "base_uri": "https://localhost:8080/",
     "height": 346
    },
    "id": "-_huNNTGyazf",
    "outputId": "daa60ea3-f32e-45b1-9860-13af8fef0caa"
   },
   "outputs": [
    {
     "data": {
      "text/html": [
       "<div>\n",
       "<style scoped>\n",
       "    .dataframe tbody tr th:only-of-type {\n",
       "        vertical-align: middle;\n",
       "    }\n",
       "\n",
       "    .dataframe tbody tr th {\n",
       "        vertical-align: top;\n",
       "    }\n",
       "\n",
       "    .dataframe thead th {\n",
       "        text-align: right;\n",
       "    }\n",
       "</style>\n",
       "<table border=\"1\" class=\"dataframe\">\n",
       "  <thead>\n",
       "    <tr style=\"text-align: right;\">\n",
       "      <th></th>\n",
       "      <th>userid</th>\n",
       "      <th>post</th>\n",
       "      <th>ques</th>\n",
       "      <th>ans</th>\n",
       "      <th>asker</th>\n",
       "      <th>ans1</th>\n",
       "      <th>severity1</th>\n",
       "      <th>bully1</th>\n",
       "      <th>ans2</th>\n",
       "      <th>severity2</th>\n",
       "      <th>bully2</th>\n",
       "      <th>ans3</th>\n",
       "      <th>severity3</th>\n",
       "      <th>bully3</th>\n",
       "    </tr>\n",
       "  </thead>\n",
       "  <tbody>\n",
       "    <tr>\n",
       "      <th>0</th>\n",
       "      <td>aguitarplayer94</td>\n",
       "      <td>Q: what&amp;#039;s your favorite song? :D&lt;br&gt;A: I ...</td>\n",
       "      <td>what039 your favorit song dbr</td>\n",
       "      <td>i like too mani song to have a favorit</td>\n",
       "      <td>None</td>\n",
       "      <td>No</td>\n",
       "      <td>0</td>\n",
       "      <td>NaN</td>\n",
       "      <td>No</td>\n",
       "      <td>0</td>\n",
       "      <td>NaN</td>\n",
       "      <td>No</td>\n",
       "      <td>0</td>\n",
       "      <td>NaN</td>\n",
       "    </tr>\n",
       "    <tr>\n",
       "      <th>1</th>\n",
       "      <td>aprilpooh15</td>\n",
       "      <td>Q: &lt;3&lt;br&gt;A: &lt;/3 ? haha jk! &lt;33</td>\n",
       "      <td>3</td>\n",
       "      <td>3  haha jk 33</td>\n",
       "      <td>None</td>\n",
       "      <td>No</td>\n",
       "      <td>0</td>\n",
       "      <td>NaN</td>\n",
       "      <td>No</td>\n",
       "      <td>0</td>\n",
       "      <td>NaN</td>\n",
       "      <td>No</td>\n",
       "      <td>0</td>\n",
       "      <td>NaN</td>\n",
       "    </tr>\n",
       "    <tr>\n",
       "      <th>2</th>\n",
       "      <td>aprilpooh15</td>\n",
       "      <td>Q: &amp;quot;hey angel  you duh sexy&amp;quot;&lt;br&gt;A: R...</td>\n",
       "      <td>quothey angel  you duh sexyquot</td>\n",
       "      <td>realli thank haha</td>\n",
       "      <td>None</td>\n",
       "      <td>No</td>\n",
       "      <td>0</td>\n",
       "      <td>NaN</td>\n",
       "      <td>No</td>\n",
       "      <td>0</td>\n",
       "      <td>NaN</td>\n",
       "      <td>No</td>\n",
       "      <td>0</td>\n",
       "      <td>NaN</td>\n",
       "    </tr>\n",
       "    <tr>\n",
       "      <th>3</th>\n",
       "      <td>aprilpooh15</td>\n",
       "      <td>Q: (:&lt;br&gt;A: ;(</td>\n",
       "      <td></td>\n",
       "      <td></td>\n",
       "      <td>None</td>\n",
       "      <td>No</td>\n",
       "      <td>0</td>\n",
       "      <td>NaN</td>\n",
       "      <td>No</td>\n",
       "      <td>0</td>\n",
       "      <td>NaN</td>\n",
       "      <td>No</td>\n",
       "      <td>0</td>\n",
       "      <td>NaN</td>\n",
       "    </tr>\n",
       "    <tr>\n",
       "      <th>4</th>\n",
       "      <td>aprilpooh15</td>\n",
       "      <td>Q: ******************MEOWWW*******************...</td>\n",
       "      <td>meowww</td>\n",
       "      <td>rawr</td>\n",
       "      <td>None</td>\n",
       "      <td>No</td>\n",
       "      <td>0</td>\n",
       "      <td>NaN</td>\n",
       "      <td>No</td>\n",
       "      <td>0</td>\n",
       "      <td>NaN</td>\n",
       "      <td>No</td>\n",
       "      <td>0</td>\n",
       "      <td>NaN</td>\n",
       "    </tr>\n",
       "  </tbody>\n",
       "</table>\n",
       "</div>"
      ],
      "text/plain": [
       "            userid                                               post  \\\n",
       "0  aguitarplayer94  Q: what&#039;s your favorite song? :D<br>A: I ...   \n",
       "1      aprilpooh15                     Q: <3<br>A: </3 ? haha jk! <33   \n",
       "2      aprilpooh15  Q: &quot;hey angel  you duh sexy&quot;<br>A: R...   \n",
       "3      aprilpooh15                                     Q: (:<br>A: ;(   \n",
       "4      aprilpooh15  Q: ******************MEOWWW*******************...   \n",
       "\n",
       "                              ques                                      ans  \\\n",
       "0    what039 your favorit song dbr   i like too mani song to have a favorit   \n",
       "1                                3                            3  haha jk 33   \n",
       "2  quothey angel  you duh sexyquot                        realli thank haha   \n",
       "3                                                                             \n",
       "4                           meowww                                     rawr   \n",
       "\n",
       "  asker ans1 severity1 bully1 ans2 severity2 bully2 ans3 severity3 bully3  \n",
       "0  None   No         0    NaN   No         0    NaN   No         0    NaN  \n",
       "1  None   No         0    NaN   No         0    NaN   No         0    NaN  \n",
       "2  None   No         0    NaN   No         0    NaN   No         0    NaN  \n",
       "3  None   No         0    NaN   No         0    NaN   No         0    NaN  \n",
       "4  None   No         0    NaN   No         0    NaN   No         0    NaN  "
      ]
     },
     "execution_count": 11,
     "metadata": {},
     "output_type": "execute_result"
    }
   ],
   "source": [
    "df1.head()"
   ]
  },
  {
   "cell_type": "code",
   "execution_count": 12,
   "metadata": {
    "id": "knhkV93wye8p"
   },
   "outputs": [],
   "source": [
    "stop_words = stopwords.words(\"english\")\n",
    "df1['ques']=df1['ques'].apply(lambda x:' '.join([i for i in x.split(' ') if i not in stop_words] ) if isinstance(x,str) else x)\n",
    "df1['ans']=df1['ans'].apply(lambda x:' '.join([i for i in x.split(' ') if i not in stop_words]) if isinstance(x,str) else x)"
   ]
  },
  {
   "cell_type": "code",
   "execution_count": 13,
   "metadata": {
    "colab": {
     "base_uri": "https://localhost:8080/",
     "height": 296
    },
    "id": "QRE-5xfXzGoW",
    "outputId": "85c61781-9429-4987-86f3-64fcc3e7ff80"
   },
   "outputs": [
    {
     "data": {
      "text/html": [
       "<div>\n",
       "<style scoped>\n",
       "    .dataframe tbody tr th:only-of-type {\n",
       "        vertical-align: middle;\n",
       "    }\n",
       "\n",
       "    .dataframe tbody tr th {\n",
       "        vertical-align: top;\n",
       "    }\n",
       "\n",
       "    .dataframe thead th {\n",
       "        text-align: right;\n",
       "    }\n",
       "</style>\n",
       "<table border=\"1\" class=\"dataframe\">\n",
       "  <thead>\n",
       "    <tr style=\"text-align: right;\">\n",
       "      <th></th>\n",
       "      <th>userid</th>\n",
       "      <th>post</th>\n",
       "      <th>ques</th>\n",
       "      <th>ans</th>\n",
       "      <th>asker</th>\n",
       "      <th>ans1</th>\n",
       "      <th>severity1</th>\n",
       "      <th>bully1</th>\n",
       "      <th>ans2</th>\n",
       "      <th>severity2</th>\n",
       "      <th>bully2</th>\n",
       "      <th>ans3</th>\n",
       "      <th>severity3</th>\n",
       "      <th>bully3</th>\n",
       "    </tr>\n",
       "  </thead>\n",
       "  <tbody>\n",
       "    <tr>\n",
       "      <th>0</th>\n",
       "      <td>aguitarplayer94</td>\n",
       "      <td>Q: what&amp;#039;s your favorite song? :D&lt;br&gt;A: I ...</td>\n",
       "      <td>what039 favorit song dbr</td>\n",
       "      <td>like mani song favorit</td>\n",
       "      <td>None</td>\n",
       "      <td>No</td>\n",
       "      <td>0</td>\n",
       "      <td>NaN</td>\n",
       "      <td>No</td>\n",
       "      <td>0</td>\n",
       "      <td>NaN</td>\n",
       "      <td>No</td>\n",
       "      <td>0</td>\n",
       "      <td>NaN</td>\n",
       "    </tr>\n",
       "    <tr>\n",
       "      <th>1</th>\n",
       "      <td>aprilpooh15</td>\n",
       "      <td>Q: &lt;3&lt;br&gt;A: &lt;/3 ? haha jk! &lt;33</td>\n",
       "      <td>3</td>\n",
       "      <td>3  haha jk 33</td>\n",
       "      <td>None</td>\n",
       "      <td>No</td>\n",
       "      <td>0</td>\n",
       "      <td>NaN</td>\n",
       "      <td>No</td>\n",
       "      <td>0</td>\n",
       "      <td>NaN</td>\n",
       "      <td>No</td>\n",
       "      <td>0</td>\n",
       "      <td>NaN</td>\n",
       "    </tr>\n",
       "    <tr>\n",
       "      <th>2</th>\n",
       "      <td>aprilpooh15</td>\n",
       "      <td>Q: &amp;quot;hey angel  you duh sexy&amp;quot;&lt;br&gt;A: R...</td>\n",
       "      <td>quothey angel  duh sexyquot</td>\n",
       "      <td>realli thank haha</td>\n",
       "      <td>None</td>\n",
       "      <td>No</td>\n",
       "      <td>0</td>\n",
       "      <td>NaN</td>\n",
       "      <td>No</td>\n",
       "      <td>0</td>\n",
       "      <td>NaN</td>\n",
       "      <td>No</td>\n",
       "      <td>0</td>\n",
       "      <td>NaN</td>\n",
       "    </tr>\n",
       "    <tr>\n",
       "      <th>3</th>\n",
       "      <td>aprilpooh15</td>\n",
       "      <td>Q: (:&lt;br&gt;A: ;(</td>\n",
       "      <td></td>\n",
       "      <td></td>\n",
       "      <td>None</td>\n",
       "      <td>No</td>\n",
       "      <td>0</td>\n",
       "      <td>NaN</td>\n",
       "      <td>No</td>\n",
       "      <td>0</td>\n",
       "      <td>NaN</td>\n",
       "      <td>No</td>\n",
       "      <td>0</td>\n",
       "      <td>NaN</td>\n",
       "    </tr>\n",
       "    <tr>\n",
       "      <th>4</th>\n",
       "      <td>aprilpooh15</td>\n",
       "      <td>Q: ******************MEOWWW*******************...</td>\n",
       "      <td>meowww</td>\n",
       "      <td>rawr</td>\n",
       "      <td>None</td>\n",
       "      <td>No</td>\n",
       "      <td>0</td>\n",
       "      <td>NaN</td>\n",
       "      <td>No</td>\n",
       "      <td>0</td>\n",
       "      <td>NaN</td>\n",
       "      <td>No</td>\n",
       "      <td>0</td>\n",
       "      <td>NaN</td>\n",
       "    </tr>\n",
       "  </tbody>\n",
       "</table>\n",
       "</div>"
      ],
      "text/plain": [
       "            userid                                               post  \\\n",
       "0  aguitarplayer94  Q: what&#039;s your favorite song? :D<br>A: I ...   \n",
       "1      aprilpooh15                     Q: <3<br>A: </3 ? haha jk! <33   \n",
       "2      aprilpooh15  Q: &quot;hey angel  you duh sexy&quot;<br>A: R...   \n",
       "3      aprilpooh15                                     Q: (:<br>A: ;(   \n",
       "4      aprilpooh15  Q: ******************MEOWWW*******************...   \n",
       "\n",
       "                          ques                      ans asker ans1 severity1  \\\n",
       "0     what039 favorit song dbr   like mani song favorit  None   No         0   \n",
       "1                            3            3  haha jk 33  None   No         0   \n",
       "2  quothey angel  duh sexyquot        realli thank haha  None   No         0   \n",
       "3                                                        None   No         0   \n",
       "4                       meowww                     rawr  None   No         0   \n",
       "\n",
       "  bully1 ans2 severity2 bully2 ans3 severity3 bully3  \n",
       "0    NaN   No         0    NaN   No         0    NaN  \n",
       "1    NaN   No         0    NaN   No         0    NaN  \n",
       "2    NaN   No         0    NaN   No         0    NaN  \n",
       "3    NaN   No         0    NaN   No         0    NaN  \n",
       "4    NaN   No         0    NaN   No         0    NaN  "
      ]
     },
     "execution_count": 13,
     "metadata": {},
     "output_type": "execute_result"
    }
   ],
   "source": [
    "df1.head()"
   ]
  },
  {
   "cell_type": "code",
   "execution_count": 14,
   "metadata": {
    "id": "OMJpyIumzN-t"
   },
   "outputs": [],
   "source": [
    "ans=df1[df1.ans.notna()].ans"
   ]
  },
  {
   "cell_type": "code",
   "execution_count": 15,
   "metadata": {
    "colab": {
     "base_uri": "https://localhost:8080/"
    },
    "id": "rtMEB63cCoQQ",
    "outputId": "993ad8cb-d471-4b33-c709-221fc01be5a8"
   },
   "outputs": [
    {
     "data": {
      "text/plain": [
       "array([' atm rue 21d forever21 3', ' hey  yah momma',\n",
       "       ' hahaha wht u tlkn bout girl',\n",
       "       ' yumm justin bieber pdiddi son jdoir yummmhaha realli celeb bhut yeah ampamp chan fckn tatumhaha oh damn',\n",
       "       ' hmmmm think part te guy support sing tht part make tear la bohem good one two',\n",
       "       ' umm bunch peopl join  got bore  want', ' im wear', ' yes ',\n",
       "       ' aww thanks yuu',\n",
       "       ' ahhaha yuurr funnyy reall funni ndd dntt want hatt guy come bckk mee anyyi moreendd yeahh suck tlking shiti jstt dntt tlk shitt thiss wouldd tlk itt yuurr face iff knew whoo thiss wassbitch gett life ndd stopp worri aboutt mine',\n",
       "       ' pirateesss ', ' watt yuu meann', ' ahaha readyy h', ' uhmmm ',\n",
       "       ' lemenadee', ' ummmahhh hottt seniorrr',\n",
       "       ' welll forr righhtt noww one', ' uhm ', ' ahahaha noo',\n",
       "       ' ahaha thank', '  ',\n",
       "       ' didnt say mental put becaus peopl dont mean duh comeback suck',\n",
       "       ' bitch aint fake', ' noth realli', ' pepe', ' im fake ',\n",
       "       ' chicken 3333', '', ' stalker', ' cuz felt like  one', ' yea ',\n",
       "       ' yea ', ' ew hate twilight', ' lol', ' hell', ' dont care anymor',\n",
       "       ' yea sooo annoy', ' back', ' care', ' im', '', ' purpl  ',\n",
       "       ' get life', ' nope', '', ' one inform nope aint mess', ' annoy',\n",
       "       ' yo mamma', ' realli', ' idk', ' k', ' ', ' whi would wanna',\n",
       "       ' hi anonym', ' wouldnt talk beth ', ' hey', ' great ', ' 1',\n",
       "       ' none', ' like twice month', ' doe matter', ' stalkerrrr',\n",
       "       ' learn spell ', ' thank ', ' lololol',\n",
       "       ' learn keep damn mouth shut',\n",
       "       ' say goodby town ha ear eye hear whisper walk familiar face smile back knew would make chang  onli thing go bother youll call yourselv friend  whi cant look eye one last time  write wall  youv read ill gone  call name know ill come run  one night spare im meant  plea dont leav  iu2019v read stori thousand time  iu2019ll rewrit youu2019r meddl anger canu2019t control mean world  hold serpent tongu whore lie worth die ill take time  onli thing go bother youll call yourselv friend  whi cant look eye one last time  write wall  youv read ill gone  call name know ill come run  one night spare im meant  plea dont leav  walk hous morn brought gun end tabl blood wa strewn across wall theyll find bathroom floor  walk hous morn brought gun end tabl blood wa strewn across wall theyll find bathroom floor im done  write write write kill chanc  kill chanc kill chanc kill chanc',\n",
       "       ' life show face anonym', ' close obes', ' onli fake onc', ' p',\n",
       "       ' haha thank ', ' girl im fake hun',\n",
       "       ' dont make fake person get fake straight j', ' okay sure',\n",
       "       ' sure', ' fug', ' stop talk', ' know', ' bitch one copi', ' yep',\n",
       "       ' thank  ', ' crude', ' yea right dont make laugh', ' go grandma',\n",
       "       ' brown', ' peanut butter jelli sandwhich', ' never dy hair',\n",
       "       ' mum', ' person ', ' idk tell', ' parent xd', ' whatev bitch',\n",
       "       ' um look talk talk shit stop hypocrit ', ' woah',\n",
       "       ' dsfdsfdsgfdfgsd', ' big', ' serious lucki', ' okay', ' yea',\n",
       "       ' one unlik hun', ' like said', '', ' jealous', ' like mom',\n",
       "       ' whi would wanna jealous', ' psh yea right',\n",
       "       ' yes wa pretti cute ', ' knowwww ',\n",
       "       ' nah bro  yethop soon though ',\n",
       "       ' im tri challeng ithought  see point argu yes  would fight lindsey anytim  anywher',\n",
       "       ' ', ' caus probabl fuckin girl tell youu ill', ' vaginaaaaaaaaa',\n",
       "       ' shes ugli stupid cunt  shes beautifulwhi dont stop talkin crap get life silli fuckstick damn  like honest much loser talk shit formspr',\n",
       "       ' well youll go jail', ' give hint ', ' dont mind ask  would kill',\n",
       "       ' thanks ', '', ' whi thank you3 id like stud',\n",
       "       ' haha read previous messag ', ' theyv good ', ' april', ' never',\n",
       "       ' eagl', ' strawberri ', ' didnt one',\n",
       "       ' timothi fishi arnold  name arnold tv show hey arnold seen moviehaha',\n",
       "       ' ehhh guess spiderman', ' whi dont find get page mmkayi thank ',\n",
       "       ' becaus myspac dead fb overr  plus expand brain power',\n",
       "       ' comfort', ' human genet believ',\n",
       "       ' becaus suppos look awar someth go potenti hit headtherefor look quick awar think ',\n",
       "       ' reaction weird  love haha', ' becaus noth better say',\n",
       "       ' idk realli never get hate ',\n",
       "       ' go ask question like dont think im go honest  give respect know',\n",
       "       ' dont believ onli would help', ' yes',\n",
       "       ' believ realli dumb question  henc part answer last question say duo thank indirect insult guess answer question  anymor damn',\n",
       "       ' never', ' yes', ' nahh dont think like privaci much ',\n",
       "       ' third arm  think could much haha',\n",
       "       ' uncontrol drool hahahahhah good one',\n",
       "       ' funni noth yet im hungri mention ', ' prolli', ' egypt ',\n",
       "       ' thank veri much seem pretti cool well  ha', ' much',\n",
       "       ' noo problem  anytim', ' yes', ' bra ', ' haha duhh',\n",
       "       ' dependss ', ' trippn ',\n",
       "       ' ehh everyon know love p lol cant choos ',\n",
       "       ' hope youur tell lyric songg lmao ', ' ill pray ',\n",
       "       ' cuhz whi dont gett nut ampdont worri', ' stephanieeeeey',\n",
       "       ' lol sinc realli must knoo', ' random question ', ' 3',\n",
       "       ' septemb 22nd3', ' well dont hate whoever refer',\n",
       "       ' umm think wht chuu want babeyi', ' thank', ' love yew 2',\n",
       "       ' wtf get outa hea bxtch', ' love youu 2222', ' lol', ' ididnt',\n",
       "       ' ikno dat grul',\n",
       "       ' lmfao seriouslywel idc alot femalez got crush mi',\n",
       "       ' yah dont realli need anybodi rite',\n",
       "       ' lmfao wat fuke formspr game', ' im bout 59', ' ohkay den',\n",
       "       ' kum lol', ' dat one name hottboi mikey ', ' naw yew kno',\n",
       "       ' park nd', ' nun juz jook nd viben', ' lol diz', ' ya ido',\n",
       "       ' lol wen ifirst made diz ish yew wa lyke hi im juz ask diz',\n",
       "       ' lol', ' doe wobbl babi ovum da place', ' lmfao',\n",
       "       ' bxtch suk mi slab nd get lost  yoda', ' doesnt',\n",
       "       ' mhm haha dont anonym pussi', ' hahh', ' eye guess',\n",
       "       ' like 2 half year think', ' march15th', ' yuh areee3',\n",
       "       ' superman', ' hhaahahha yes',\n",
       "       ' okay  welll question wa ask wa wa fake  use someon el pictur internet realli take compliment becaus peopl fake think look reall pretti soo stfu',\n",
       "       ' hahahaha thank think call beauti first 3',\n",
       "       ' ocean  like actual question loser bash', ' larg', ' ummm wth',\n",
       "       ' thankyou', ' hahaha okay jordin', ' hahaha kayi',\n",
       "       ' correctionsexit rape enjoy  lol', '  ili haha ', ' ari',\n",
       "       ' umm usual right one switch', ' true love heartbreak better love',\n",
       "       ' idk lol', ' hahah idk', ' cuz respect',\n",
       "       ' probabl say someon made everyon decid follow lol',\n",
       "       ' price haha noooo better blackmail haha actual dont realli care say person ask pussi ask anonym lol',\n",
       "       ' one cancer research kid adult',\n",
       "       ' hm  well im posit amp would realli gay say name wrongg boutcha messag text ha ',\n",
       "       ' hahaha    love mikaylaaaaa',\n",
       "       ' uhh im realli sure  noww know wanna go ucla miss ashley hugh dentist yo ',\n",
       "       ' haha uhmm  maleghia onli person know back townnn  buuut definet marri ha onli marri steveo devorcedd haha sooo thisss',\n",
       "       ' suuur', ' know kool least im makin money hehe lol',\n",
       "       ' hahaha oh nuttin hella bore well lol',\n",
       "       ' quotim post corner  twistin good got blue bandana im  keepin hood wat im inland empir goon got work trap n chevi droppin soonse babi wit dem van van onsinc got deal girl saynh handsom quot im san berdoo  yorker boy earn stripe  got soldier thatll flop 4  im bouncin hood rat think love  use 4 food stamp  mr ghetto  whateva  group  im shootin dont worri smoker  keepin movin  know mexican know ask  send boat load    think wrap need  know find  im hood   uptown san berdoo  like alway ie boy  shine like bald head  big bezel make watch look like hog head smoke tree  call log head  im butter bread like parkay like im hood  im hood like dope  yay lil shadi crazi muthafuka  like otay   san berdoo  mt vernon damn hood get murder free like good  got 12 barbaro lam hood bring kentucki derbi damn hood  sun shine diamond help tan good ill let blow like band wood  call babi im highland 10 min later  tha san berdoo   like kroger cup  water juic  pickl egg  pig foot got beef  know find  im hood  better yet  project babi mama trippin goon livin heartless  3 rule  get money  dont tell welfar check come late  rais hell  im poor boy  aint got shit hope dont kno wat im bout',\n",
       "       ' hehe yes wanna add mewwwmyspacecomsavagelif',\n",
       "       ' awww whi thank yew reali fine hehe', ' realli got like old pic',\n",
       "       ' hmmm haha mayb lol', ' hehe yes name shadi sweeti amp',\n",
       "       ' could talk myspac', ' hmmmm nope lol', ' im good amp',\n",
       "       ' huh wat lol', ' hehe doso got email talk', ' ok fasho haha',\n",
       "       ' idk realli beauti girl lol', ' haha idk one play radio amp hate',\n",
       "       ' hahaha know wa amp got kickout becuz wa danc amp one tho rent cop pull side amp said dont like amp told fuck kick hehe',\n",
       "       ' wtffff get life', ' tell lol', ' like fri chicken lol',\n",
       "       ' sister know insid upsid  dad alway go advic err thing anyth know err thing',\n",
       "       ' albert clarissa kara aww cant choos one see chose 4 caus realli dont count caus alreadi bestfriend caus togeth mayb albert aka trebla caus talk err day',\n",
       "       ' welcom back wea u late lol joxx miss u muj',\n",
       "       ' didnt say made dork said say',\n",
       "       ' gross mani time told dont oat look like vomit lol',\n",
       "       ' lol san fransisco san franfisco funi song',\n",
       "       ' chomp chomp chomp chomp chomp chomp chomp chomp chomp chomp chomp chomp chomp chomp chomp chomp',\n",
       "       ' mayb stay bug muj talk ur dad tell wrong would alreadi know tell know go want say someth dont send letter caus youll make thing harder',\n",
       "       ' havent unless wa desper never',\n",
       "       ' cooli  ad back caus u didnt add',\n",
       "       ' lmfao yeh jerri wish bead p u matter fact lol mwah',\n",
       "       ' ok let get home work', ' lmao p',\n",
       "       ' lose friend f isnt updat proper ',\n",
       "       ' lol youll star answer caus cool like p ahhh mayb later gota step game abit',\n",
       "       ' esay ill give passwrod user name hr hlaf multipul choic 1020 min rest long n short answer',\n",
       "       ' spaghet', ' sunni sexi hmm club scadaluzz sum p', ' ahh yeah ok',\n",
       "       ' call tttreeeeblla', ' omg dont care', ' nope im good',\n",
       "       ' translat plea', ' like',\n",
       "       ' famili life love career aww car music doe count',\n",
       "       ' im readi go home still 6 hr go', ' colour insid hand',\n",
       "       ' noth id happi healthi live dubai right babe', ' 18 20 best ever',\n",
       "       ' 552am', ' im share',\n",
       "       ' niec birthday cup cake onli one 630 last night wa yummmm',\n",
       "       ' full hous famili matter',\n",
       "       ' thought smart lmao real know whi lol',\n",
       "       ' quiet naughti lmao alway cri lmao im serious ahh help lmao',\n",
       "       ' havent told u alreadi', ' 2 guy girl  pizza place haha',\n",
       "       ' never hooker dont know hooker', ' lmao',\n",
       "       ' alreadi know novemb  lol', ' come onlin talk fav peep know dd',\n",
       "       ' lmao hospit caus fell verand belconi dreamt dark hall way flicker light im walk hall way past ever room sorri hard explain dad dad pas wa see alot dream wasnt close think would tell dad like thing wouldnt know ever long stori wa told famili elder wa also told dream wa dad dad tri get dad caus dad dad close want let dad know wa sorri bring dad got messag never saw visual never dreamt sinc',\n",
       "       ' nope wa littl use think realli wa man live moon',\n",
       "       ' put crown head ',\n",
       "       ' rissa trebla kazza bestfriend kara automat becom bff caus date',\n",
       "       ' lmao hmm wounder whi u lol comment',\n",
       "       ' im go say dad dont think nli person come mind moment 52',\n",
       "       ' lmao earli im ment work alreadyd im go today im wait willzzi get home ',\n",
       "       ' caus im good dd', ' hah  ',\n",
       "       ' know  codi 3 love youuuu  im complic',\n",
       "       ' guess right  blue exact favourit colour 333333',\n",
       "       ' bed 33333 couch isnt comfiest place  bed fit need ',\n",
       "       ' yell becaus usual cri pain  yell kind denial thing  isnt pain ',\n",
       "       ' dark  even though hardest keep top  think dark nail look gorgeousssss',\n",
       "       ' sexual think rather obvious said life aim includ find redcomebrownhairedblondhair tv play unidentifi lesbian  got clue',\n",
       "       ' best kiss mean kiss style  well prefer kind sensual kiss cant believ describ kiss style lol slower meaning one obvious keep relationship aliv need vari im big fan kiss person stick tongu throat especi realli forc arent kind mood know mean anyway p wa awkward question  im return p',\n",
       "       ' drunk  well  girl guy  girl wasnt realli much  guy  drunk p lol',\n",
       "       ' way im glad didnt get ticket come pull ',\n",
       "       ' sand  although dont realli want either lol', ' yes ',\n",
       "       ' think get along peopl pretti easili think older peopl  probabl least get older 10 year ish becaus clash littl view  opinion etc definit get along age group  younger peopl  better  sorri  wa bore answer ',\n",
       "       ' normal  height  dark extent  die alon  loo love one etc etc etc worst fear  cockroach well insect general  cockroach eughhhh  see one  even behind glass  freak',\n",
       "       ' dont wear glass  coupl pair glass plastic lens p look cool  one  geek glass helllo  cooless xd',\n",
       "       ' shame dont edit life sort entertain issu isnt p',\n",
       "       ' inde sex plus text   someth child enjoy  haha joke p',\n",
       "       ' long question definit  onli becaus mean get opinion onto page  rather  feel worth wile ',\n",
       "       ' inde  scari amount  normal amount lol',\n",
       "       ' four  doesnt necessarili mean like time 96 time  good book  quit opposit lie detector result jeremi kyle right ',\n",
       "       ' st patrick day lol dont realli celebr  least dont think ',\n",
       "       ' doesnt',\n",
       "       ' way  kind depend mood im cannot danc sober  sure enough confid get jiggi p drunk  tend go littl hyper know emili danc jjs episod s3 well  kind mea bitminus cook obvious p',\n",
       "       ' turtl cutest thing ever dont think',\n",
       "       ' yes lol like comfort cloth give  make warm cosi argu ',\n",
       "       '  onli concentr scribbl someth quick  end look mess piec write  tend start neat  get  write quicker  start turn scribbl p',\n",
       "       ' think laugh could lot wors p dont realli stand laugh realli  sometim giggl pretti funni havent ani comment either probabl good thing ',\n",
       "       ' actual prefer listen music sleep  onli becaus get song stuck head  cant sleep ',\n",
       "       ' would say doesnt make differ realli prefer blond hair  look wise  dont think colour someon hair make person would look ',\n",
       "       ' dont think  broken past  get back ',\n",
       "       ' never heard italian  like french speak italian right think make video say  think onlyyyyyy person abl deter love french p',\n",
       "       '  shouldnt  enough said ',\n",
       "       ' wtf realli disturb stufffffff teach think come studi english colleg say ',\n",
       "       ' depend  usual around 113012 time get home  sometim earlier blag way lol p',\n",
       "       ' love tooooooooooooooooo thank tonight  realli mean would never believ upset would someth wa bad written  even written bad  realiti charact  mean freddi  least ceffi right awwwwwww jj poor jj im glad ha friendship thoma  anyway  back point yo u know becaus kept updat wa upset tonight  manag make feel better  part  wish could come give biggest hug right   love youuuuu 3333333',\n",
       "       ' awwwwww  miss didnt want soppi admit though  clear fail  pretti bore day   werent  expect p anyth fun happen school ',\n",
       "       ' call local butcher bound utensil come handi case im attack  haha',\n",
       "       ' ummm  never crazi realli well  cant rememb  may good thing lol wasnt bore teenag  wa never  let say like cook know watch skin  lol im person say quotdont  dont thatquot  like tri thing  suppos never quotcrazyesquequot ',\n",
       "       ' fuk thiss', ' heey', ' boree', ' 16 year old daughter ',\n",
       "       ' nope  sorri', ' equal 2 woman cheat'], dtype=object)"
      ]
     },
     "execution_count": 15,
     "metadata": {},
     "output_type": "execute_result"
    }
   ],
   "source": [
    "ans2=df1[df1.ans.notna()]\n",
    "Ans=ans2[ans2.ans1=='Yes']\n",
    "Ans['ans'].values"
   ]
  },
  {
   "cell_type": "code",
   "execution_count": 16,
   "metadata": {
    "id": "dpXeipa61hFk"
   },
   "outputs": [],
   "source": [
    "bully=df1[df1.ans.notna()].ans1"
   ]
  },
  {
   "cell_type": "code",
   "execution_count": 17,
   "metadata": {
    "id": "I9GuBHDC7qM-"
   },
   "outputs": [],
   "source": [
    "data = df = pd.DataFrame(list(zip(ans, bully)),\n",
    "               columns =['text', 'label'])"
   ]
  },
  {
   "cell_type": "code",
   "execution_count": 18,
   "metadata": {
    "colab": {
     "base_uri": "https://localhost:8080/",
     "height": 195
    },
    "id": "jtnhH1rc8J9Q",
    "outputId": "57e861ae-3cfb-4371-cc57-58972caccfc3"
   },
   "outputs": [
    {
     "data": {
      "text/html": [
       "<div>\n",
       "<style scoped>\n",
       "    .dataframe tbody tr th:only-of-type {\n",
       "        vertical-align: middle;\n",
       "    }\n",
       "\n",
       "    .dataframe tbody tr th {\n",
       "        vertical-align: top;\n",
       "    }\n",
       "\n",
       "    .dataframe thead th {\n",
       "        text-align: right;\n",
       "    }\n",
       "</style>\n",
       "<table border=\"1\" class=\"dataframe\">\n",
       "  <thead>\n",
       "    <tr style=\"text-align: right;\">\n",
       "      <th></th>\n",
       "      <th>text</th>\n",
       "      <th>label</th>\n",
       "    </tr>\n",
       "  </thead>\n",
       "  <tbody>\n",
       "    <tr>\n",
       "      <th>0</th>\n",
       "      <td>like mani song favorit</td>\n",
       "      <td>No</td>\n",
       "    </tr>\n",
       "    <tr>\n",
       "      <th>1</th>\n",
       "      <td>3  haha jk 33</td>\n",
       "      <td>No</td>\n",
       "    </tr>\n",
       "    <tr>\n",
       "      <th>2</th>\n",
       "      <td>realli thank haha</td>\n",
       "      <td>No</td>\n",
       "    </tr>\n",
       "    <tr>\n",
       "      <th>3</th>\n",
       "      <td></td>\n",
       "      <td>No</td>\n",
       "    </tr>\n",
       "    <tr>\n",
       "      <th>4</th>\n",
       "      <td>rawr</td>\n",
       "      <td>No</td>\n",
       "    </tr>\n",
       "  </tbody>\n",
       "</table>\n",
       "</div>"
      ],
      "text/plain": [
       "                      text label\n",
       "0   like mani song favorit    No\n",
       "1            3  haha jk 33    No\n",
       "2        realli thank haha    No\n",
       "3                             No\n",
       "4                     rawr    No"
      ]
     },
     "execution_count": 18,
     "metadata": {},
     "output_type": "execute_result"
    }
   ],
   "source": [
    "data.head(5)"
   ]
  },
  {
   "cell_type": "code",
   "execution_count": 19,
   "metadata": {
    "colab": {
     "base_uri": "https://localhost:8080/"
    },
    "id": "t9frO3bq8bgO",
    "outputId": "6bf52755-271a-40df-c11b-a6e25bd57f06"
   },
   "outputs": [
    {
     "data": {
      "text/plain": [
       "No     10710\n",
       "Yes      339\n",
       "Name: label, dtype: int64"
      ]
     },
     "execution_count": 19,
     "metadata": {},
     "output_type": "execute_result"
    }
   ],
   "source": [
    "data.label.value_counts()"
   ]
  },
  {
   "cell_type": "code",
   "execution_count": 20,
   "metadata": {
    "colab": {
     "base_uri": "https://localhost:8080/"
    },
    "id": "XdC2lQFr8XtW",
    "outputId": "b7ec6ca7-e017-411d-8a54-c3791ebc0bdb"
   },
   "outputs": [
    {
     "data": {
      "text/plain": [
       "Yes    5000\n",
       "No     5000\n",
       "Name: label, dtype: int64"
      ]
     },
     "execution_count": 20,
     "metadata": {},
     "output_type": "execute_result"
    }
   ],
   "source": [
    "from sklearn.utils import resample\n",
    "# Separate majority and minority classes\n",
    "df_majority = data[data['label']== 'No']\n",
    "df_minority = data[data['label']== 'Yes']\n",
    " \n",
    "# Downsample majority class and upsample the minority class\n",
    "df_minority_upsampled = resample(df_minority, replace=True,n_samples=5000,random_state=123) \n",
    "df_majority_downsampled = resample(df_majority, replace=False,n_samples=5000,random_state=123) \n",
    " \n",
    "# Combine minority class with downsampled majority class\n",
    "df_upsampled = pd.concat([df_minority_upsampled, df_majority_downsampled])\n",
    " \n",
    "# Display new class counts\n",
    "df_upsampled['label'].value_counts()"
   ]
  },
  {
   "cell_type": "code",
   "execution_count": 21,
   "metadata": {
    "id": "G_cSbtof8nJ-"
   },
   "outputs": [],
   "source": [
    " # shuffle the DataFrame rows \n",
    "data= df_upsampled.sample(frac = 1)"
   ]
  },
  {
   "cell_type": "code",
   "execution_count": 22,
   "metadata": {
    "colab": {
     "base_uri": "https://localhost:8080/",
     "height": 427
    },
    "id": "CcHD9m7r8-y-",
    "outputId": "a4ffa667-a979-41da-ef44-465760b8bcab"
   },
   "outputs": [
    {
     "name": "stderr",
     "output_type": "stream",
     "text": [
      "C:\\Users\\SRAVAN\\AppData\\Local\\Temp/ipykernel_11024/1266229457.py:17: UserWarning: FixedFormatter should only be used together with FixedLocator\n",
      "  plt.gca().set_xticklabels(df['label'], rotation=60, horizontalalignment= 'right')\n"
     ]
    },
    {
     "data": {
      "image/png": "[encoded data removed]",
      "text/plain": [
       "<Figure size 480x480 with 1 Axes>"
      ]
     },
     "metadata": {
      "needs_background": "light"
     },
     "output_type": "display_data"
    }
   ],
   "source": [
    "import matplotlib.pyplot as plt\n",
    "import random\n",
    "# Prepare Data\n",
    "df = data.groupby('label').size().reset_index(name='counts')\n",
    "n = df['label'].unique().__len__()+1\n",
    "all_colors = list(plt.cm.colors.cnames.keys())\n",
    "random.seed(100)\n",
    "c = random.choices(all_colors, k=n)\n",
    "\n",
    "# Plot Bars\n",
    "plt.figure(figsize=(6,6), dpi= 80)\n",
    "plt.bar(df['label'], df['counts'], color=c, width=.5)\n",
    "for i, val in enumerate(df['counts'].values):\n",
    "    plt.text(i, val, float(val), horizontalalignment='center', verticalalignment='bottom', fontdict={'fontweight':500, 'size':12})\n",
    "\n",
    "# Decoration\n",
    "plt.gca().set_xticklabels(df['label'], rotation=60, horizontalalignment= 'right')\n",
    "\n",
    "plt.ylim(0, 6000)\n",
    "plt.show()"
   ]
  },
  {
   "cell_type": "code",
   "execution_count": 23,
   "metadata": {
    "colab": {
     "base_uri": "https://localhost:8080/"
    },
    "id": "gc9_-ft90W9F",
    "outputId": "8ec73bc1-5834-441a-9331-5cb5f7e76b70"
   },
   "outputs": [
    {
     "data": {
      "text/plain": [
       "(10000, 6295)"
      ]
     },
     "execution_count": 23,
     "metadata": {},
     "output_type": "execute_result"
    }
   ],
   "source": [
    "tf_idf=TfidfVectorizer()\n",
    "tf_idf.fit(data['text'])\n",
    "\n",
    "X=tf_idf.transform(data['text'])\n",
    "X.shape"
   ]
  },
  {
   "cell_type": "code",
   "execution_count": 24,
   "metadata": {
    "colab": {
     "base_uri": "https://localhost:8080/"
    },
    "id": "RKxjx4Z99t0B",
    "outputId": "1632c06d-47fa-4927-e2e8-a567e34ccdb9"
   },
   "outputs": [
    {
     "data": {
      "text/plain": [
       "10000"
      ]
     },
     "execution_count": 24,
     "metadata": {},
     "output_type": "execute_result"
    }
   ],
   "source": [
    "len(data[\"label\"])"
   ]
  },
  {
   "cell_type": "code",
   "execution_count": 25,
   "metadata": {
    "id": "41DBgLni9N8u"
   },
   "outputs": [],
   "source": [
    "from sklearn.preprocessing import LabelEncoder\n",
    "le = LabelEncoder() \n",
    "y = le.fit_transform(data[\"label\"])"
   ]
  },
  {
   "cell_type": "code",
   "execution_count": 26,
   "metadata": {
    "colab": {
     "base_uri": "https://localhost:8080/"
    },
    "id": "3y-c4Mff3I6n",
    "outputId": "952b5816-0966-4c0b-ba44-889ef8dfa118"
   },
   "outputs": [
    {
     "name": "stdout",
     "output_type": "stream",
     "text": [
      "No of training samples 8000\n",
      "No of test samples 2000\n"
     ]
    }
   ],
   "source": [
    "X_train,X_test,Y_train,Y_test=train_test_split(X,y,test_size=0.2,stratify=y,random_state=42)\n",
    "print('No of training samples {}'.format(X_train.shape[0]))\n",
    "print('No of test samples {}'.format(X_test.shape[0]))"
   ]
  },
  {
   "cell_type": "code",
   "execution_count": 35,
   "metadata": {},
   "outputs": [
    {
     "data": {
      "text/plain": [
       "(8000, 6295)"
      ]
     },
     "execution_count": 35,
     "metadata": {},
     "output_type": "execute_result"
    }
   ],
   "source": [
    "X_train.shape"
   ]
  },
  {
   "cell_type": "code",
   "execution_count": 36,
   "metadata": {
    "id": "1-FgOKns4FKI"
   },
   "outputs": [
    {
     "data": {
      "text/plain": [
       "RandomForestClassifier(n_estimators=200)"
      ]
     },
     "execution_count": 36,
     "metadata": {},
     "output_type": "execute_result"
    }
   ],
   "source": [
    "rf=RandomForestClassifier(n_estimators=200)\n",
    "rf.fit(X_train,Y_train)\n"
   ]
  },
  {
   "cell_type": "code",
   "execution_count": 37,
   "metadata": {
    "colab": {
     "base_uri": "https://localhost:8080/",
     "height": 282
    },
    "id": "GRZw17Is4nsv",
    "outputId": "8e6649d1-256d-44e5-8519-fbc06efb971d"
   },
   "outputs": [
    {
     "data": {
      "text/plain": [
       "<AxesSubplot:>"
      ]
     },
     "execution_count": 37,
     "metadata": {},
     "output_type": "execute_result"
    },
    {
     "data": {
      "image/png": "[encoded data removed]",
      "text/plain": [
       "<Figure size 432x288 with 2 Axes>"
      ]
     },
     "metadata": {
      "needs_background": "light"
     },
     "output_type": "display_data"
    }
   ],
   "source": [
    "Y_pred_rf=rf.predict(X_test)\n",
    "sns.heatmap(confusion_matrix(Y_test,Y_pred_rf),annot=True,fmt='d')"
   ]
  },
  {
   "cell_type": "code",
   "execution_count": 38,
   "metadata": {},
   "outputs": [],
   "source": [
    "import pickle\n",
    "pickle.dump(rf, open('RF_bow.pkl', 'wb'))"
   ]
  },
  {
   "cell_type": "code",
   "execution_count": 29,
   "metadata": {
    "colab": {
     "base_uri": "https://localhost:8080/"
    },
    "id": "xmj5YA3j9YHm",
    "outputId": "e5183801-5c50-4717-cad7-3296bae2dbf8"
   },
   "outputs": [
    {
     "name": "stdout",
     "output_type": "stream",
     "text": [
      "accuracy rf 0.9625\n"
     ]
    }
   ],
   "source": [
    "print('accuracy rf {}'.format(accuracy_score(Y_test,Y_pred_rf)))"
   ]
  },
  {
   "cell_type": "code",
   "execution_count": 30,
   "metadata": {
    "colab": {
     "base_uri": "https://localhost:8080/"
    },
    "id": "wZFVPZK8F7C-",
    "outputId": "163d03c2-f7ba-42ea-83aa-a8eae63ac71e"
   },
   "outputs": [
    {
     "data": {
      "text/plain": [
       "(1, 6295)"
      ]
     },
     "execution_count": 30,
     "metadata": {},
     "output_type": "execute_result"
    }
   ],
   "source": [
    "text=' hahaha wht u tlkn bout girl'\n",
    "loc=np.where(ans.values==text)\n",
    "X_in=X[loc[0][0]].reshape(1,-1)\n",
    "X_in.shape"
   ]
  },
  {
   "cell_type": "code",
   "execution_count": 44,
   "metadata": {},
   "outputs": [
    {
     "ename": "IndexError",
     "evalue": "index 0 is out of bounds for axis 0 with size 0",
     "output_type": "error",
     "traceback": [
      "\u001b[1;31m---------------------------------------------------------------------------\u001b[0m",
      "\u001b[1;31mIndexError\u001b[0m                                Traceback (most recent call last)",
      "\u001b[1;32m~\\AppData\\Local\\Temp/ipykernel_11024/1655060175.py\u001b[0m in \u001b[0;36m<module>\u001b[1;34m\u001b[0m\n\u001b[0;32m      1\u001b[0m \u001b[0mtext\u001b[0m\u001b[1;33m=\u001b[0m\u001b[1;34m'fuck'\u001b[0m\u001b[1;33m\u001b[0m\u001b[1;33m\u001b[0m\u001b[0m\n\u001b[0;32m      2\u001b[0m \u001b[0mloc\u001b[0m\u001b[1;33m=\u001b[0m\u001b[0mnp\u001b[0m\u001b[1;33m.\u001b[0m\u001b[0mwhere\u001b[0m\u001b[1;33m(\u001b[0m\u001b[0mans\u001b[0m\u001b[1;33m.\u001b[0m\u001b[0mvalues\u001b[0m\u001b[1;33m==\u001b[0m\u001b[0mtext\u001b[0m\u001b[1;33m)\u001b[0m\u001b[1;33m\u001b[0m\u001b[1;33m\u001b[0m\u001b[0m\n\u001b[1;32m----> 3\u001b[1;33m \u001b[0mX_in\u001b[0m\u001b[1;33m=\u001b[0m\u001b[0mX\u001b[0m\u001b[1;33m[\u001b[0m\u001b[0mloc\u001b[0m\u001b[1;33m[\u001b[0m\u001b[1;36m0\u001b[0m\u001b[1;33m]\u001b[0m\u001b[1;33m[\u001b[0m\u001b[1;36m0\u001b[0m\u001b[1;33m]\u001b[0m\u001b[1;33m]\u001b[0m\u001b[1;33m.\u001b[0m\u001b[0mreshape\u001b[0m\u001b[1;33m(\u001b[0m\u001b[1;36m1\u001b[0m\u001b[1;33m,\u001b[0m\u001b[1;33m-\u001b[0m\u001b[1;36m1\u001b[0m\u001b[1;33m)\u001b[0m\u001b[1;33m\u001b[0m\u001b[1;33m\u001b[0m\u001b[0m\n\u001b[0m\u001b[0;32m      4\u001b[0m \u001b[0mX_in\u001b[0m\u001b[1;33m.\u001b[0m\u001b[0mshape\u001b[0m\u001b[1;33m\u001b[0m\u001b[1;33m\u001b[0m\u001b[0m\n",
      "\u001b[1;31mIndexError\u001b[0m: index 0 is out of bounds for axis 0 with size 0"
     ]
    }
   ],
   "source": [
    "text='fuck'\n",
    "loc=np.where(ans.values==text)\n",
    "X_in=X[loc[0][0]].reshape(1,-1)\n",
    "X_in.shape"
   ]
  },
  {
   "cell_type": "code",
   "execution_count": 31,
   "metadata": {
    "colab": {
     "base_uri": "https://localhost:8080/"
    },
    "id": "CYe2JLzVGrvl",
    "outputId": "2f5f5e7a-0a63-40cb-f0df-eef8c9370bd6"
   },
   "outputs": [
    {
     "name": "stdout",
     "output_type": "stream",
     "text": [
      "No\n"
     ]
    }
   ],
   "source": [
    "Y_pred=rf.predict(X_in)\n",
    "if Y_pred[0]==0:\n",
    "  print('No')\n",
    "else:\n",
    "  print('Yes')"
   ]
  },
  {
   "cell_type": "code",
   "execution_count": 39,
   "metadata": {
    "id": "5wGW7qR66D0b"
   },
   "outputs": [
    {
     "data": {
      "text/plain": [
       "SVC(kernel='linear')"
      ]
     },
     "execution_count": 39,
     "metadata": {},
     "output_type": "execute_result"
    }
   ],
   "source": [
    "svm=SVC(kernel='linear')\n",
    "svm.fit(X_train,Y_train)\n"
   ]
  },
  {
   "cell_type": "code",
   "execution_count": 40,
   "metadata": {
    "colab": {
     "base_uri": "https://localhost:8080/",
     "height": 284
    },
    "id": "KG8TiF2w8Euu",
    "outputId": "01a9cb78-6305-4ef7-e907-b8704b8fcc33"
   },
   "outputs": [
    {
     "data": {
      "text/plain": [
       "<AxesSubplot:>"
      ]
     },
     "execution_count": 40,
     "metadata": {},
     "output_type": "execute_result"
    },
    {
     "data": {
      "image/png": "[encoded data removed]",
      "text/plain": [
       "<Figure size 432x288 with 2 Axes>"
      ]
     },
     "metadata": {
      "needs_background": "light"
     },
     "output_type": "display_data"
    }
   ],
   "source": [
    "Y_pred_svm=svm.predict(X_test)\n",
    "sns.heatmap(confusion_matrix(Y_test,Y_pred_svm),annot=True,fmt='d')"
   ]
  },
  {
   "cell_type": "code",
   "execution_count": 41,
   "metadata": {},
   "outputs": [],
   "source": [
    "pickle.dump(svm, open('svm_bow.pkl', 'wb'))"
   ]
  },
  {
   "cell_type": "code",
   "execution_count": 34,
   "metadata": {
    "colab": {
     "base_uri": "https://localhost:8080/"
    },
    "id": "nQ0w9qu7923Q",
    "outputId": "c09c29a5-1238-470d-adbb-eed3082b705a"
   },
   "outputs": [
    {
     "name": "stdout",
     "output_type": "stream",
     "text": [
      "accuracy svm 0.9055\n"
     ]
    }
   ],
   "source": [
    "print('accuracy svm {}'.format(accuracy_score(Y_test,Y_pred_svm)))"
   ]
  },
  {
   "cell_type": "code",
   "execution_count": null,
   "metadata": {},
   "outputs": [],
   "source": []
  }
 ],
 "metadata": {
  "colab": {
   "collapsed_sections": [],
   "name": "ITDL06_FINAL_New.ipynb",
   "provenance": []
  },
  "kernelspec": {
   "display_name": "Python 3 (ipykernel)",
   "language": "python",
   "name": "python3"
  },
  "language_info": {
   "codemirror_mode": {
    "name": "ipython",
    "version": 3
   },
   "file_extension": ".py",
   "mimetype": "text/x-python",
   "name": "python",
   "nbconvert_exporter": "python",
   "pygments_lexer": "ipython3",
   "version": "3.9.7"
  }
 },
 "nbformat": 4,
 "nbformat_minor": 1
}
